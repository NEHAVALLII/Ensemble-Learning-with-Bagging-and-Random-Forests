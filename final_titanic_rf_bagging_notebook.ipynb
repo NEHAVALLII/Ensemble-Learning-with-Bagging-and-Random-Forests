{
 "cells": [
  {
   "cell_type": "markdown",
   "id": "2cbf9f27",
   "metadata": {},
   "source": [
    "# Ensemble Learning with Bagging and Random Forests\n",
    "**Dataset:** Titanic (Survival Prediction)"
   ]
  },
  {
   "cell_type": "markdown",
   "id": "ecaa5b9a",
   "metadata": {},
   "source": [
    "## Step 1: Import Required Libraries"
   ]
  },
  {
   "cell_type": "code",
   "execution_count": null,
   "id": "630b4e57",
   "metadata": {},
   "outputs": [],
   "source": [
    "import pandas as pd\n",
    "import numpy as np\n",
    "import seaborn as sns\n",
    "import matplotlib.pyplot as plt\n",
    "\n",
    "from sklearn.model_selection import train_test_split\n",
    "from sklearn.preprocessing import LabelEncoder\n",
    "from sklearn.impute import SimpleImputer\n",
    "from sklearn.tree import DecisionTreeClassifier\n",
    "from sklearn.ensemble import BaggingClassifier, RandomForestClassifier\n",
    "from sklearn.metrics import classification_report, confusion_matrix, accuracy_score\n",
    "\n",
    "sns.set(style='whitegrid')"
   ]
  },
  {
   "cell_type": "markdown",
   "id": "567011f4",
   "metadata": {},
   "source": [
    "## Step 2: Load the Titanic Dataset"
   ]
  },
  {
   "cell_type": "code",
   "execution_count": null,
   "id": "da37f814",
   "metadata": {},
   "outputs": [],
   "source": [
    "titanic = sns.load_dataset('titanic')\n",
    "titanic.head()"
   ]
  },
  {
   "cell_type": "markdown",
   "id": "2481b994",
   "metadata": {},
   "source": [
    "## Step 3: Exploratory Data Analysis (EDA)"
   ]
  },
  {
   "cell_type": "markdown",
   "id": "c8ee4995",
   "metadata": {},
   "source": [
    "### 3.1 Dataset Overview"
   ]
  },
  {
   "cell_type": "code",
   "execution_count": null,
   "id": "9e2ff522",
   "metadata": {},
   "outputs": [],
   "source": [
    "titanic.info()"
   ]
  },
  {
   "cell_type": "markdown",
   "id": "05088b57",
   "metadata": {},
   "source": [
    "### 3.2 Missing Values Heatmap"
   ]
  },
  {
   "cell_type": "code",
   "execution_count": null,
   "id": "83ccd468",
   "metadata": {},
   "outputs": [],
   "source": [
    "plt.figure(figsize=(10, 5))\n",
    "sns.heatmap(titanic.isnull(), cbar=False, cmap='viridis')\n",
    "plt.title(\"Missing Values in Titanic Dataset\")\n",
    "plt.show()"
   ]
  },
  {
   "cell_type": "markdown",
   "id": "86c14ea3",
   "metadata": {},
   "source": [
    "### 3.3 Class Balance - Survival"
   ]
  },
  {
   "cell_type": "code",
   "execution_count": null,
   "id": "9de87383",
   "metadata": {},
   "outputs": [],
   "source": [
    "sns.countplot(x='survived', data=titanic, palette='pastel')\n",
    "plt.title(\"Survival Distribution\")\n",
    "plt.xlabel(\"Survived (0 = No, 1 = Yes)\")\n",
    "plt.ylabel(\"Count\")\n",
    "plt.show()"
   ]
  },
  {
   "cell_type": "markdown",
   "id": "2fc6626a",
   "metadata": {},
   "source": [
    "### 3.4 Survival Rate by Sex"
   ]
  },
  {
   "cell_type": "code",
   "execution_count": null,
   "id": "45e59c12",
   "metadata": {},
   "outputs": [],
   "source": [
    "sns.barplot(x='sex', y='survived', data=titanic, palette='Set2')\n",
    "plt.title(\"Survival Rate by Sex\")\n",
    "plt.ylabel(\"Survival Probability\")\n",
    "plt.show()"
   ]
  },
  {
   "cell_type": "markdown",
   "id": "cc9a1d9f",
   "metadata": {},
   "source": [
    "### 3.5 Survival by Passenger Class"
   ]
  },
  {
   "cell_type": "code",
   "execution_count": null,
   "id": "8b3d50b1",
   "metadata": {},
   "outputs": [],
   "source": [
    "sns.barplot(x='pclass', y='survived', data=titanic, palette='Blues_d')\n",
    "plt.title(\"Survival Rate by Passenger Class\")\n",
    "plt.ylabel(\"Survival Probability\")\n",
    "plt.show()"
   ]
  },
  {
   "cell_type": "markdown",
   "id": "f9b50396",
   "metadata": {},
   "source": [
    "### 3.6 Age Distribution by Survival"
   ]
  },
  {
   "cell_type": "code",
   "execution_count": null,
   "id": "897c99bb",
   "metadata": {},
   "outputs": [],
   "source": [
    "plt.figure(figsize=(10, 5))\n",
    "sns.histplot(data=titanic, x='age', hue='survived', kde=True, element='step', palette='muted')\n",
    "plt.title(\"Age Distribution by Survival\")\n",
    "plt.show()"
   ]
  },
  {
   "cell_type": "markdown",
   "id": "241bf456",
   "metadata": {},
   "source": [
    "### 3.7 Boxplot of Fare by Class and Survival"
   ]
  },
  {
   "cell_type": "code",
   "execution_count": null,
   "id": "6fa40e5c",
   "metadata": {},
   "outputs": [],
   "source": [
    "plt.figure(figsize=(10, 6))\n",
    "sns.boxplot(data=titanic, x='pclass', y='fare', hue='survived', palette='Set3')\n",
    "plt.title(\"Fare by Passenger Class and Survival\")\n",
    "plt.show()"
   ]
  },
  {
   "cell_type": "markdown",
   "id": "3c91f50a",
   "metadata": {},
   "source": [
    "## Step 4: Data Preprocessing"
   ]
  },
  {
   "cell_type": "code",
   "execution_count": null,
   "id": "4cc927e9",
   "metadata": {},
   "outputs": [],
   "source": [
    "titanic.drop(['deck', 'embark_town', 'alive', 'who', 'class'], axis=1, inplace=True)\n",
    "\n",
    "label_encoders = {}\n",
    "categorical_cols = ['sex', 'embarked', 'alone']\n",
    "for col in categorical_cols:\n",
    "    le = LabelEncoder()\n",
    "    titanic[col] = le.fit_transform(titanic[col].astype(str))\n",
    "    label_encoders[col] = le\n",
    "\n",
    "imputer = SimpleImputer(strategy='median')\n",
    "titanic['age'] = imputer.fit_transform(titanic[['age']])\n",
    "titanic['embarked'] = imputer.fit_transform(titanic[['embarked']])\n",
    "titanic.dropna(inplace=True)\n",
    "\n",
    "titanic.head()"
   ]
  },
  {
   "cell_type": "markdown",
   "id": "13820852",
   "metadata": {},
   "source": [
    "## Step 5: Train-Test Split"
   ]
  },
  {
   "cell_type": "code",
   "execution_count": null,
   "id": "f4c0f176",
   "metadata": {},
   "outputs": [],
   "source": [
    "X = titanic.drop('survived', axis=1)\n",
    "y = titanic['survived']\n",
    "\n",
    "X_train, X_test, y_train, y_test = train_test_split(\n",
    "    X, y, test_size=0.2, stratify=y, random_state=42\n",
    ")"
   ]
  },
  {
   "cell_type": "markdown",
   "id": "9c586b6a",
   "metadata": {},
   "source": [
    "## Step 6: Decision Tree Classifier (Baseline)"
   ]
  },
  {
   "cell_type": "code",
   "execution_count": null,
   "id": "5ba0c4df",
   "metadata": {},
   "outputs": [],
   "source": [
    "dt_model = DecisionTreeClassifier(random_state=42)\n",
    "dt_model.fit(X_train, y_train)\n",
    "y_pred_dt = dt_model.predict(X_test)\n",
    "\n",
    "print(\"Decision Tree Accuracy:\", accuracy_score(y_test, y_pred_dt))\n",
    "print(confusion_matrix(y_test, y_pred_dt))\n",
    "print(classification_report(y_test, y_pred_dt))"
   ]
  },
  {
   "cell_type": "markdown",
   "id": "82552736",
   "metadata": {},
   "source": [
    "## Step 7: Bagging Classifier"
   ]
  },
  {
   "cell_type": "code",
   "execution_count": null,
   "id": "89b0e0f0",
   "metadata": {},
   "outputs": [],
   "source": [
    "bag_model = BaggingClassifier(\n",
    "    base_estimator=DecisionTreeClassifier(),\n",
    "    n_estimators=100,\n",
    "    random_state=42\n",
    ")\n",
    "bag_model.fit(X_train, y_train)\n",
    "y_pred_bag = bag_model.predict(X_test)\n",
    "\n",
    "print(\"Bagging Classifier Accuracy:\", accuracy_score(y_test, y_pred_bag))\n",
    "print(confusion_matrix(y_test, y_pred_bag))\n",
    "print(classification_report(y_test, y_pred_bag))"
   ]
  },
  {
   "cell_type": "markdown",
   "id": "dcc538a1",
   "metadata": {},
   "source": [
    "## Step 8: Random Forest Classifier"
   ]
  },
  {
   "cell_type": "code",
   "execution_count": null,
   "id": "3b75477d",
   "metadata": {},
   "outputs": [],
   "source": [
    "rf_model = RandomForestClassifier(n_estimators=100, random_state=42)\n",
    "rf_model.fit(X_train, y_train)\n",
    "y_pred_rf = rf_model.predict(X_test)\n",
    "\n",
    "print(\"Random Forest Accuracy:\", accuracy_score(y_test, y_pred_rf))\n",
    "print(confusion_matrix(y_test, y_pred_rf))\n",
    "print(classification_report(y_test, y_pred_rf))"
   ]
  },
  {
   "cell_type": "markdown",
   "id": "385f5e5f",
   "metadata": {},
   "source": [
    "## Step 9: Feature Importance Visualization"
   ]
  },
  {
   "cell_type": "code",
   "execution_count": null,
   "id": "f6cacb25",
   "metadata": {},
   "outputs": [],
   "source": [
    "importances = rf_model.feature_importances_\n",
    "features = X.columns\n",
    "indices = np.argsort(importances)\n",
    "\n",
    "plt.figure(figsize=(10, 6))\n",
    "plt.title(\"Feature Importances - Random Forest\")\n",
    "plt.barh(range(len(indices)), importances[indices], align=\"center\")\n",
    "plt.yticks(range(len(indices)), [features[i] for i in indices])\n",
    "plt.xlabel(\"Importance Score\")\n",
    "plt.tight_layout()\n",
    "plt.show()"
   ]
  }
 ],
 "metadata": {},
 "nbformat": 4,
 "nbformat_minor": 5
}
